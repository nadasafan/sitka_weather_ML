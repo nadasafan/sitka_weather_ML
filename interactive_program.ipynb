{
 "cells": [
  {
   "cell_type": "code",
   "execution_count": 4,
   "metadata": {},
   "outputs": [
    {
     "name": "stdout",
     "output_type": "stream",
     "text": [
      "please enter the item you want to purchasetshirt\n",
      "to continue press y \n",
      " to quit press ny\n",
      "we happy to get more from you\n",
      "please enter the item you want to purchaseglasses\n",
      "to continue press y \n",
      " to quit press nn\n",
      "thank you for requesting from us\n",
      "tshirt delivery will be with in two days\n",
      "sorry we don't have: glasses\n"
     ]
    }
   ],
   "source": [
    "available_items = ['tshirt','trouser', 'jacket','boot','watch','jeans']\n",
    "requested_items = []\n",
    "while True:\n",
    "    requested_items.append(input('please enter the item you want to purchase'))\n",
    "    termination = input('to continue press y \\n to quit press n')\n",
    "    if termination == 'y':\n",
    "        print('we happy to get more from you')\n",
    "    else:\n",
    "        print('thank you for requesting from us')\n",
    "        break\n",
    "            \n",
    "for requested in requested_items:\n",
    "    if requested in available_items:\n",
    "        print (requested + ' delivery will be with in two days')\n",
    "    else:\n",
    "        print(\"sorry we don't have: \" + requested )"
   ]
  },
  {
   "cell_type": "code",
   "execution_count": 2,
   "metadata": {},
   "outputs": [
    {
     "data": {
      "text/plain": [
       "['tshirt', 'boot', 'jacket']"
      ]
     },
     "execution_count": 2,
     "metadata": {},
     "output_type": "execute_result"
    }
   ],
   "source": [
    "requested_items"
   ]
  }
 ],
 "metadata": {
  "kernelspec": {
   "display_name": "Python 3",
   "language": "python",
   "name": "python3"
  },
  "language_info": {
   "codemirror_mode": {
    "name": "ipython",
    "version": 3
   },
   "file_extension": ".py",
   "mimetype": "text/x-python",
   "name": "python",
   "nbconvert_exporter": "python",
   "pygments_lexer": "ipython3",
   "version": "3.7.6"
  }
 },
 "nbformat": 4,
 "nbformat_minor": 4
}
